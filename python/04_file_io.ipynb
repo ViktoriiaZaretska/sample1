{
 "cells": [
  {
   "cell_type": "markdown",
   "id": "fe40732e",
   "metadata": {},
   "source": [
    "Ось **розгорнутий контент для файлу `04_file_io.ipynb`**, присвячений **роботі з файлами у контексті інформаційно-аналітичного забезпечення військових штабів**.\n",
    "\n",
    "---\n",
    "\n",
    "# 📘 `04_file_io.ipynb`\n",
    "\n",
    "## **Тема: Робота з файлами звітності**\n",
    "\n",
    "---\n",
    "\n",
    "### 🔹 Вступ\n",
    "\n",
    "Файли — основне джерело зберігання оперативних зведень, звітів, донесень, оцінок втрат та інших структурованих чи напівструктурованих даних. Python дозволяє легко читати та записувати інформацію, що критично для штабної аналітики.\n",
    "\n",
    "---\n",
    "\n",
    "### 🔸 1. Зчитування текстових файлів\n",
    "\n",
    "#### ✅ Структура файлу `daily_report.txt`:\n",
    "\n",
    "```\n",
    "Дата: 2025-06-16\n",
    "Напрям: Схід\n",
    "Втрати противника: 124\n",
    "Підрозділи: 1-а мехбр, 3-я танкбр\n",
    "```\n",
    "\n",
    "#### ▶️ Зчитування:\n",
    "\n",
    "```python\n",
    "with open(\"daily_report.txt\", \"r\", encoding=\"utf-8\") as f:\n",
    "    content = f.read()\n",
    "\n",
    "print(content)\n",
    "```\n",
    "\n",
    "---\n",
    "\n",
    "### 🔸 2. Обробка пострічково\n",
    "\n",
    "```python\n",
    "with open(\"daily_report.txt\", \"r\", encoding=\"utf-8\") as f:\n",
    "    for line in f:\n",
    "        print(\">>\", line.strip())\n",
    "```\n",
    "\n",
    "---\n",
    "\n",
    "### 🔸 3. Запис файлу\n",
    "\n",
    "#### ▶️ Звіт-аналітика:\n",
    "\n",
    "```python\n",
    "summary = \"Звіт сформовано.\\nПротивник зазнав значних втрат.\\nРекомендація: перейти до активних дій.\"\n",
    "\n",
    "with open(\"summary_report.txt\", \"w\", encoding=\"utf-8\") as f:\n",
    "    f.write(summary)\n",
    "```\n",
    "\n",
    "---\n",
    "\n",
    "### 🔸 4. Додавання інформації у файл\n",
    "\n",
    "```python\n",
    "with open(\"log.txt\", \"a\", encoding=\"utf-8\") as f:\n",
    "    f.write(\"🔹 Новий запис: аналіз за напрямком Південь\\n\")\n",
    "```\n",
    "\n",
    "---\n",
    "\n",
    "### 🔸 5. Робота з CSV-файлами\n",
    "\n",
    "> Файл `losses.csv`:\n",
    "\n",
    "```csv\n",
    "Дата,Напрямок,Втрати\n",
    "2025-06-10,Схід,102\n",
    "2025-06-11,Схід,134\n",
    "2025-06-12,Південь,98\n",
    "```\n",
    "\n",
    "#### ▶️ Зчитування з `pandas`:\n",
    "\n",
    "```python\n",
    "import pandas as pd\n",
    "df = pd.read_csv(\"losses.csv\")\n",
    "print(df)\n",
    "```\n",
    "\n",
    "#### ▶️ Запис:\n",
    "\n",
    "```python\n",
    "df.to_csv(\"losses_updated.csv\", index=False)\n",
    "```\n",
    "\n",
    "---\n",
    "\n",
    "### 🔸 6. Фільтрація за напрямком\n",
    "\n",
    "```python\n",
    "east_df = df[df[\"Напрямок\"] == \"Схід\"]\n",
    "print(east_df)\n",
    "```\n",
    "\n",
    "---\n",
    "\n",
    "### 📝 Практичні завдання:\n",
    "\n",
    "1. Зчитати файл бойового донесення та вивести кількість втрат противника.\n",
    "2. Створити файл `summary.txt`, у якому підсумувати ситуацію за день.\n",
    "3. Зчитати CSV-файл зі втратами по напрямках і вивести дані лише за напрямком \"Південь\".\n",
    "4. Додати лог-файл, куди записується кожен факт зчитування.\n",
    "\n"
   ]
  },
  {
   "cell_type": "markdown",
   "id": "46c08001",
   "metadata": {},
   "source": [
    "Завдання 1. Зчитування файлу бойового донесення та виведення кількості втрат противника."
   ]
  },
  {
   "cell_type": "code",
   "execution_count": 17,
   "id": "62ae0090",
   "metadata": {},
   "outputs": [
    {
     "name": "stdout",
     "output_type": "stream",
     "text": [
      "         Дата  Втрати особового складу  Втрати ОВТ   Напрямок   Підрозділ\n",
      "0  2025-06-23                      820          20  Північний    1-а оабр\n",
      "1  2025-06-24                      910          26    Східний   53-а омбр\n",
      "2  2025-06-25                      780          16  Південний  10-а одшбр\n",
      "3  2025-06-26                      860          22   Західний  101-а омбр\n",
      "4  2025-06-27                      895          20  Північний  36-а обрмп\n"
     ]
    }
   ],
   "source": [
    "import pandas as pd\n",
    "df = pd.read_csv(\"losses.csv\")\n",
    "print(df)\n"
   ]
  },
  {
   "cell_type": "markdown",
   "id": "827fad90",
   "metadata": {},
   "source": [
    "Завдання 2. Створення файлу `summary.txt`, у якому підсумувати ситуацію за день."
   ]
  },
  {
   "cell_type": "code",
   "execution_count": 5,
   "id": "f27dfb2e",
   "metadata": {},
   "outputs": [],
   "source": [
    "summary = \"Звіт сформовано.\\nПротивник зазнав значних втрат.\\nРекомендація: перейти до активних дій.\"\n",
    "\n",
    "with open(\"Ситуація за день.txt\", \"w\", encoding=\"utf-8\") as f:\n",
    "    f.write(summary)"
   ]
  },
  {
   "cell_type": "markdown",
   "id": "c9d14540",
   "metadata": {},
   "source": [
    "Завдання 3. Зчитування CSV-файлу зі втратами по напрямках і виведення даних лише за напрямком \"Південь\"."
   ]
  },
  {
   "cell_type": "code",
   "execution_count": 19,
   "id": "08596a24",
   "metadata": {},
   "outputs": [
    {
     "name": "stdout",
     "output_type": "stream",
     "text": [
      "         Дата  Втрати особового складу  Втрати ОВТ   Напрямок   Підрозділ\n",
      "2  2025-06-25                      780          16  Південний  10-а одшбр\n"
     ]
    }
   ],
   "source": [
    "import pandas as pd\n",
    "df = pd.read_csv(\"losses.csv\")\n",
    "\n",
    "east_df = df[df[\"Напрямок\"] == \"Південний\"]\n",
    "print(east_df)"
   ]
  },
  {
   "cell_type": "markdown",
   "id": "02491f0b",
   "metadata": {},
   "source": [
    "Завдання 4. Додати лог-файл, куди записується кожен факт зчитування."
   ]
  },
  {
   "cell_type": "code",
   "execution_count": 20,
   "id": "8ed6d87f",
   "metadata": {},
   "outputs": [
    {
     "name": "stdout",
     "output_type": "stream",
     "text": [
      "         Дата  Втрати особового складу  Втрати ОВТ   Напрямок   Підрозділ\n",
      "0  2025-06-23                      820          20  Північний    1-а оабр\n",
      "1  2025-06-24                      910          26    Східний   53-а омбр\n",
      "2  2025-06-25                      780          16  Південний  10-а одшбр\n",
      "3  2025-06-26                      860          22   Західний  101-а омбр\n",
      "4  2025-06-27                      895          20  Північний  36-а обрмп\n"
     ]
    }
   ],
   "source": [
    "import pandas as pd\n",
    "import logging\n",
    "\n",
    "logging.basicConfig(\n",
    "    filename='read.log',\n",
    "    level=logging.INFO,\n",
    "    format='%(asctime)s - %(message)s',\n",
    "    encoding='utf-8'\n",
    ")\n",
    "\n",
    "df = pd.read_csv(\"losses.csv\")\n",
    "\n",
    "# Логування факту зчитування\n",
    "logging.info(f'Прочитано CSV файл losses.csv з розміром: {df.shape[0]} рядків, {df.shape[1]} стовпців')\n",
    "\n",
    "print(df)\n"
   ]
  }
 ],
 "metadata": {
  "kernelspec": {
   "display_name": "Python 3",
   "language": "python",
   "name": "python3"
  },
  "language_info": {
   "codemirror_mode": {
    "name": "ipython",
    "version": 3
   },
   "file_extension": ".py",
   "mimetype": "text/x-python",
   "name": "python",
   "nbconvert_exporter": "python",
   "pygments_lexer": "ipython3",
   "version": "3.11.9"
  }
 },
 "nbformat": 4,
 "nbformat_minor": 5
}
