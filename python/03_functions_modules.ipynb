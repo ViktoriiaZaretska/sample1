{
 "cells": [
  {
   "cell_type": "markdown",
   "id": "7cceceee",
   "metadata": {},
   "source": [
    "Ось **розгорнутий контент для третього файлу `03_functions_modules.ipynb`**, який зосереджено на використанні функцій та модулів Python у контексті **інформаційно-аналітичного забезпечення військових штабів**.\n",
    "\n",
    "---\n",
    "\n",
    "# 📘 `03_functions_modules.ipynb`\n",
    "\n",
    "## **Тема: Функції та модулі у військовій аналітиці**\n",
    "\n",
    "---\n",
    "\n",
    "### 🔹 Вступ\n",
    "\n",
    "Функції дозволяють структурувати код, повторно використовувати логіку для аналізу бойових звітів, оцінки ситуацій та генерації звітів. Модулі — це бібліотеки, які розширюють можливості Python.\n",
    "\n",
    "---\n",
    "\n",
    "### 🔸 1. Оголошення функцій\n",
    "\n",
    "#### ✅ Синтаксис:\n",
    "\n",
    "```python\n",
    "def function_name(parameters):\n",
    "    # тіло функції\n",
    "    return result\n",
    "```\n",
    "\n",
    "#### ▶️ Приклад: обчислення рівня ризику за кількістю противника\n",
    "\n",
    "```python\n",
    "def evaluate_risk(enemy_strength):\n",
    "    if enemy_strength > 200:\n",
    "        return \"Високий\"\n",
    "    elif enemy_strength > 100:\n",
    "        return \"Середній\"\n",
    "    else:\n",
    "        return \"Низький\"\n",
    "\n",
    "print(evaluate_risk(150))  # \"Середній\"\n",
    "```\n",
    "\n",
    "---\n",
    "\n",
    "### 🔸 2. Аргументи за замовчуванням\n",
    "\n",
    "```python\n",
    "def assess_readiness(personnel_ready, total=100):\n",
    "    return personnel_ready / total\n",
    "\n",
    "print(assess_readiness(80))  # 0.8\n",
    "```\n",
    "\n",
    "---\n",
    "\n",
    "### 🔸 3. `*args` та `**kwargs`\n",
    "\n",
    "#### ▶️ Сума втрат за днями:\n",
    "\n",
    "```python\n",
    "def total_losses(*days):\n",
    "    return sum(days)\n",
    "\n",
    "print(total_losses(12, 30, 45))  # 87\n",
    "```\n",
    "\n",
    "---\n",
    "\n",
    "### 🔸 4. Використання модулів Python\n",
    "\n",
    "#### 📦 Імпорт стандартних бібліотек:\n",
    "\n",
    "```python\n",
    "import math\n",
    "import random\n",
    "```\n",
    "\n",
    "#### ✅ Приклади:\n",
    "\n",
    "* `math.sqrt()` — корінь із площі сектору\n",
    "* `random.choice()` — вибір випадкового напрямку для моделювання\n",
    "\n",
    "---\n",
    "\n",
    "### 🔸 5. Імпорт з модулів\n",
    "\n",
    "```python\n",
    "from math import sqrt\n",
    "print(sqrt(144))  # 12.0\n",
    "```\n",
    "\n",
    "---\n",
    "\n",
    "### 🔸 6. Створення власного модуля\n",
    "\n",
    "> Створіть файл `analysis_utils.py`:\n",
    "\n",
    "```python\n",
    "def calculate_efficiency(successful_ops, total_ops):\n",
    "    return successful_ops / total_ops\n",
    "```\n",
    "\n",
    "> Використайте у `ipynb`:\n",
    "\n",
    "```python\n",
    "from analysis_utils import calculate_efficiency\n",
    "\n",
    "print(calculate_efficiency(8, 10))  # 0.8\n",
    "```\n",
    "\n",
    "---\n",
    "\n",
    "### 📝 Практичні завдання:\n",
    "\n",
    "1. Створіть функцію, яка на основі втрат і чисельності ворога оцінює результативність дій.\n",
    "2. Напишіть функцію для обрахунку середніх втрат за кілька днів.\n",
    "3. Імпортуйте модуль random і змоделюйте напрямок наступу.\n",
    "4. Створіть власний модуль із функціями для оцінки логістичної готовності.\n",
    "\n"
   ]
  },
  {
   "cell_type": "markdown",
   "id": "2201eabb",
   "metadata": {},
   "source": [
    "Завдання 1. Створення функції, яка на основі втрат і чисельності ворога оцінює результативність дій."
   ]
  },
  {
   "cell_type": "code",
   "execution_count": 28,
   "id": "7d56947b",
   "metadata": {},
   "outputs": [
    {
     "name": "stdout",
     "output_type": "stream",
     "text": [
      "Результативність дій: Середня\n"
     ]
    }
   ],
   "source": [
    "losses = 130\n",
    "total_force = 420\n",
    "\n",
    "def effectiveness(losses, total_force):\n",
    "    ratio = losses / total_force\n",
    "    if ratio > 0.7:\n",
    "        effectiveness = \"Висока\"\n",
    "    elif ratio > 0.2:\n",
    "        effectiveness = \"Середня\"\n",
    "    else:\n",
    "        effectiveness = \"Низька\"\n",
    "    return effectiveness\n",
    "\n",
    "result = effectiveness(losses, total_force)\n",
    "print(f\"Результативність дій: {result}\")\n"
   ]
  },
  {
   "cell_type": "markdown",
   "id": "93dd6206",
   "metadata": {},
   "source": [
    "Завдання 2. Функція для обрахунку середніх втрат за кілька днів."
   ]
  },
  {
   "cell_type": "code",
   "execution_count": null,
   "id": "f957b319",
   "metadata": {},
   "outputs": [
    {
     "name": "stdout",
     "output_type": "stream",
     "text": [
      "Середні втрати: 132.00\n"
     ]
    }
   ],
   "source": [
    "def average_losses(losses):\n",
    "    \n",
    "    if not losses:\n",
    "        return 0.0  # якщо список порожній — повертаємо 0\n",
    "\n",
    "    total_loss = sum(losses)\n",
    "    average = total_loss / len(losses)\n",
    "    return average\n",
    "\n",
    "daily_losses = [120, 150, 100, 130, 160]  # втрати за 5 днів\n",
    "avg = average_losses(daily_losses)\n",
    "print(f\"Середні втрати: {avg:.2f}\")\n"
   ]
  },
  {
   "cell_type": "markdown",
   "id": "66d06282",
   "metadata": {},
   "source": [
    "Завдання 3. Імпорт модулю random і моделювання напрямку наступу."
   ]
  },
  {
   "cell_type": "code",
   "execution_count": 13,
   "id": "c3d41372",
   "metadata": {},
   "outputs": [
    {
     "name": "stdout",
     "output_type": "stream",
     "text": [
      "Напрямок наступу: Схід\n"
     ]
    }
   ],
   "source": [
    "import random\n",
    "\n",
    "def simulate_attack_direction():\n",
    "    directions = [\"Північ\", \"Південь\", \"Схід\", \"Захід\"]\n",
    "    selected_direction = random.choice(directions)\n",
    "    return selected_direction\n",
    "\n",
    "attack_direction = simulate_attack_direction()\n",
    "print(f\"Напрямок наступу: {attack_direction}\")\n"
   ]
  },
  {
   "cell_type": "markdown",
   "id": "bb371938",
   "metadata": {},
   "source": [
    "Завдання 4. Створення власного модулю із функціями для оцінки логістичної готовності."
   ]
  },
  {
   "cell_type": "code",
   "execution_count": 22,
   "id": "2c9be79b",
   "metadata": {},
   "outputs": [],
   "source": [
    "# logistics.py\n",
    "\n",
    "def check_supply_level(name, available, required):\n",
    "   \n",
    "    readiness = (available / required) * 100 if required > 0 else 0\n",
    "    status = \"Достатньо\" if readiness >= 100 else \"Недостатньо\"\n",
    "\n",
    "    return {\n",
    "        \"ресурс\": name,\n",
    "        \"доступно\": available,\n",
    "        \"необхідно\": required,\n",
    "        \"готовність %\": round(readiness, 2),\n",
    "        \"статус\": status\n",
    "    }\n",
    "\n",
    "def overall_logistics_readiness(supplies):\n",
    "\n",
    "    readiness_scores = []\n",
    "\n",
    "    for supply in supplies:\n",
    "        result = check_supply_level(supply[\"name\"], supply[\"available\"], supply[\"required\"])\n",
    "        readiness_scores.append(result[\"готовність %\"])\n",
    "        print(result)\n",
    "\n",
    "    if readiness_scores:\n",
    "        avg_readiness = sum(readiness_scores) / len(readiness_scores)\n",
    "    else:\n",
    "        avg_readiness = 0\n",
    "\n",
    "    print(f\"\\nЗагальна логістична готовність: {avg_readiness:.2f}%\")\n",
    "    return avg_readiness\n",
    "\n"
   ]
  }
 ],
 "metadata": {
  "kernelspec": {
   "display_name": "Python 3",
   "language": "python",
   "name": "python3"
  },
  "language_info": {
   "codemirror_mode": {
    "name": "ipython",
    "version": 3
   },
   "file_extension": ".py",
   "mimetype": "text/x-python",
   "name": "python",
   "nbconvert_exporter": "python",
   "pygments_lexer": "ipython3",
   "version": "3.11.9"
  }
 },
 "nbformat": 4,
 "nbformat_minor": 5
}
