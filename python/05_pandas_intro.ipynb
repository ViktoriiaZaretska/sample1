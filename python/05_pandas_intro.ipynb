{
 "cells": [
  {
   "cell_type": "markdown",
   "id": "c9228658",
   "metadata": {},
   "source": [
    "Ось **розгорнутий контент для файлу `05_pandas_intro.ipynb`**, орієнтований на використання **бібліотеки Pandas у військовій аналітиці**, з прикладами роботи з реальними даними (втрати, напрямки, підрозділи тощо).\n",
    "\n",
    "---\n",
    "\n",
    "# 📘 `05_pandas_intro.ipynb`\n",
    "\n",
    "## **Тема: Pandas для обробки військових даних**\n",
    "\n",
    "---\n",
    "\n",
    "### 🔹 Вступ\n",
    "\n",
    "`pandas` — одна з ключових бібліотек Python для обробки таблиць (табличних даних). Вона дає змогу швидко аналізувати, фільтрувати та агрегувати оперативні й розвідувальні дані для аналітичної підтримки прийняття рішень.\n",
    "\n",
    "---\n",
    "\n",
    "## 🔸 1. Імпорт бібліотеки та читання CSV\n",
    "\n",
    "```python\n",
    "import pandas as pd\n",
    "\n",
    "df = pd.read_csv(\"losses.csv\", encoding=\"utf-8\")\n",
    "df.head()  # переглянути перші 5 рядків\n",
    "```\n",
    "\n",
    "#### ▶️ Приклад CSV `losses.csv`:\n",
    "\n",
    "```csv\n",
    "Дата,Напрямок,Втрати,Підрозділ\n",
    "2025-06-10,Схід,102,1-а мехбр\n",
    "2025-06-11,Схід,134,1-а мехбр\n",
    "2025-06-12,Південь,98,2-а танкбр\n",
    "2025-06-13,Схід,145,3-я артбатр\n",
    "```\n",
    "\n",
    "---\n",
    "\n",
    "## 🔸 2. Основні методи\n",
    "\n",
    "```python\n",
    "df.info()\n",
    "df.describe()\n",
    "df.columns\n",
    "```\n",
    "\n",
    "---\n",
    "\n",
    "## 🔸 3. Фільтрація даних\n",
    "\n",
    "#### ▶️ За напрямком:\n",
    "\n",
    "```python\n",
    "east = df[df[\"Напрямок\"] == \"Схід\"]\n",
    "```\n",
    "\n",
    "#### ▶️ За кількістю втрат > 120:\n",
    "\n",
    "```python\n",
    "df[df[\"Втрати\"] > 120]\n",
    "```\n",
    "\n",
    "---\n",
    "\n",
    "## 🔸 4. Сортування\n",
    "\n",
    "```python\n",
    "df_sorted = df.sort_values(by=\"Втрати\", ascending=False)\n",
    "```\n",
    "\n",
    "---\n",
    "\n",
    "## 🔸 5. Групування\n",
    "\n",
    "#### ▶️ Сумарні втрати по напрямках:\n",
    "\n",
    "```python\n",
    "grouped = df.groupby(\"Напрямок\")[\"Втрати\"].sum()\n",
    "print(grouped)\n",
    "```\n",
    "\n",
    "#### ▶️ Середні втрати по підрозділах:\n",
    "\n",
    "```python\n",
    "avg = df.groupby(\"Підрозділ\")[\"Втрати\"].mean()\n",
    "print(avg)\n",
    "```\n",
    "\n",
    "---\n",
    "\n",
    "## 🔸 6. Додавання нових стовпців\n",
    "\n",
    "```python\n",
    "df[\"Рівень загрози\"] = df[\"Втрати\"].apply(lambda x: \"Високий\" if x > 120 else \"Низький\")\n",
    "```\n",
    "\n",
    "---\n",
    "\n",
    "## 🔸 7. Експорт результатів\n",
    "\n",
    "```python\n",
    "df.to_csv(\"processed_losses.csv\", index=False)\n",
    "```\n",
    "\n",
    "---\n",
    "\n",
    "## 📝 Практичні завдання:\n",
    "\n",
    "1. Зчитати CSV-файл з бойовими втратами та відобразити перші 5 рядків.\n",
    "2. Вивести загальні втрати за кожним напрямком.\n",
    "3. Вивести середні втрати по кожному підрозділу.\n",
    "4. Додати колонку з рівнем загрози.\n",
    "5. Зберегти результат аналізу у новий CSV-файл.\n",
    "\n"
   ]
  },
  {
   "cell_type": "markdown",
   "id": "6e950980",
   "metadata": {},
   "source": [
    "Завдання 1. Зчитування CSV-файл з бойовими втратами та відображення перших 5 рядків."
   ]
  },
  {
   "cell_type": "code",
   "execution_count": 14,
   "id": "af395ffc",
   "metadata": {},
   "outputs": [
    {
     "data": {
      "text/html": [
       "<div>\n",
       "<style scoped>\n",
       "    .dataframe tbody tr th:only-of-type {\n",
       "        vertical-align: middle;\n",
       "    }\n",
       "\n",
       "    .dataframe tbody tr th {\n",
       "        vertical-align: top;\n",
       "    }\n",
       "\n",
       "    .dataframe thead th {\n",
       "        text-align: right;\n",
       "    }\n",
       "</style>\n",
       "<table border=\"1\" class=\"dataframe\">\n",
       "  <thead>\n",
       "    <tr style=\"text-align: right;\">\n",
       "      <th></th>\n",
       "      <th>Дата</th>\n",
       "      <th>Втрати особового складу</th>\n",
       "      <th>Втрати ОВТ</th>\n",
       "      <th>Напрямок</th>\n",
       "      <th>Підрозділ</th>\n",
       "    </tr>\n",
       "  </thead>\n",
       "  <tbody>\n",
       "    <tr>\n",
       "      <th>0</th>\n",
       "      <td>2025-06-23</td>\n",
       "      <td>820</td>\n",
       "      <td>20</td>\n",
       "      <td>Північний</td>\n",
       "      <td>1-а оабр</td>\n",
       "    </tr>\n",
       "    <tr>\n",
       "      <th>1</th>\n",
       "      <td>2025-06-24</td>\n",
       "      <td>910</td>\n",
       "      <td>26</td>\n",
       "      <td>Східний</td>\n",
       "      <td>53-а омбр</td>\n",
       "    </tr>\n",
       "    <tr>\n",
       "      <th>2</th>\n",
       "      <td>2025-06-25</td>\n",
       "      <td>780</td>\n",
       "      <td>16</td>\n",
       "      <td>Південний</td>\n",
       "      <td>10-а одшбр</td>\n",
       "    </tr>\n",
       "    <tr>\n",
       "      <th>3</th>\n",
       "      <td>2025-06-26</td>\n",
       "      <td>860</td>\n",
       "      <td>22</td>\n",
       "      <td>Західний</td>\n",
       "      <td>101-а омбр</td>\n",
       "    </tr>\n",
       "    <tr>\n",
       "      <th>4</th>\n",
       "      <td>2025-06-27</td>\n",
       "      <td>895</td>\n",
       "      <td>20</td>\n",
       "      <td>Північний</td>\n",
       "      <td>36-а обрмп</td>\n",
       "    </tr>\n",
       "  </tbody>\n",
       "</table>\n",
       "</div>"
      ],
      "text/plain": [
       "         Дата  Втрати особового складу  Втрати ОВТ   Напрямок   Підрозділ\n",
       "0  2025-06-23                      820          20  Північний    1-а оабр\n",
       "1  2025-06-24                      910          26    Східний   53-а омбр\n",
       "2  2025-06-25                      780          16  Південний  10-а одшбр\n",
       "3  2025-06-26                      860          22   Західний  101-а омбр\n",
       "4  2025-06-27                      895          20  Північний  36-а обрмп"
      ]
     },
     "execution_count": 14,
     "metadata": {},
     "output_type": "execute_result"
    }
   ],
   "source": [
    "import pandas as pd\n",
    "\n",
    "df = pd.read_csv(\"losses.csv\", encoding=\"utf-8\")\n",
    "df.head()  # переглянути перші 5 рядків"
   ]
  },
  {
   "cell_type": "markdown",
   "id": "77f19c77",
   "metadata": {},
   "source": [
    "Завдання 2. Виведення загальних втрат за кожним напрямком."
   ]
  },
  {
   "cell_type": "code",
   "execution_count": 24,
   "id": "41ce026b",
   "metadata": {},
   "outputs": [
    {
     "name": "stdout",
     "output_type": "stream",
     "text": [
      "Напрямок\n",
      "Західний      860\n",
      "Південний     780\n",
      "Північний    1715\n",
      "Східний       910\n",
      "Name: Втрати особового складу, dtype: int64\n"
     ]
    }
   ],
   "source": [
    "grouped = df.groupby(\"Напрямок\")[\"Втрати особового складу\"].sum()\n",
    "print(grouped)"
   ]
  },
  {
   "cell_type": "markdown",
   "id": "728b03e1",
   "metadata": {},
   "source": [
    "Завдання 3. Вивід середніх втрат по кожному підрозділу."
   ]
  },
  {
   "cell_type": "code",
   "execution_count": 26,
   "id": "accfa43d",
   "metadata": {},
   "outputs": [
    {
     "name": "stdout",
     "output_type": "stream",
     "text": [
      "Підрозділ\n",
      "1-а оабр      820.0\n",
      "10-а одшбр    780.0\n",
      "101-а омбр    860.0\n",
      "36-а обрмп    895.0\n",
      "53-а омбр     910.0\n",
      "Name: Втрати особового складу, dtype: float64\n"
     ]
    }
   ],
   "source": [
    "avg = df.groupby(\"Підрозділ\")[\"Втрати особового складу\"].mean()\n",
    "print(avg)"
   ]
  },
  {
   "cell_type": "markdown",
   "id": "c1c1f19e",
   "metadata": {},
   "source": [
    "Завдання 4. Додано колонку з рівнем загрози."
   ]
  },
  {
   "cell_type": "code",
   "execution_count": 35,
   "id": "d0d7b689",
   "metadata": {},
   "outputs": [],
   "source": [
    "df[\"Рівень загрози\"] = df[\"Втрати особового складу\"].apply(lambda x: \"Високий\" if x > 800 else \"Низький\")"
   ]
  },
  {
   "cell_type": "code",
   "execution_count": 34,
   "id": "c9abe9a9",
   "metadata": {},
   "outputs": [
    {
     "data": {
      "text/html": [
       "<div>\n",
       "<style scoped>\n",
       "    .dataframe tbody tr th:only-of-type {\n",
       "        vertical-align: middle;\n",
       "    }\n",
       "\n",
       "    .dataframe tbody tr th {\n",
       "        vertical-align: top;\n",
       "    }\n",
       "\n",
       "    .dataframe thead th {\n",
       "        text-align: right;\n",
       "    }\n",
       "</style>\n",
       "<table border=\"1\" class=\"dataframe\">\n",
       "  <thead>\n",
       "    <tr style=\"text-align: right;\">\n",
       "      <th></th>\n",
       "      <th>Дата</th>\n",
       "      <th>Втрати особового складу</th>\n",
       "      <th>Втрати ОВТ</th>\n",
       "      <th>Напрямок</th>\n",
       "      <th>Підрозділ</th>\n",
       "      <th>Рівень загрози</th>\n",
       "    </tr>\n",
       "  </thead>\n",
       "  <tbody>\n",
       "    <tr>\n",
       "      <th>0</th>\n",
       "      <td>2025-06-23</td>\n",
       "      <td>820</td>\n",
       "      <td>20</td>\n",
       "      <td>Північний</td>\n",
       "      <td>1-а оабр</td>\n",
       "      <td>Високий</td>\n",
       "    </tr>\n",
       "    <tr>\n",
       "      <th>1</th>\n",
       "      <td>2025-06-24</td>\n",
       "      <td>910</td>\n",
       "      <td>26</td>\n",
       "      <td>Східний</td>\n",
       "      <td>53-а омбр</td>\n",
       "      <td>Високий</td>\n",
       "    </tr>\n",
       "    <tr>\n",
       "      <th>2</th>\n",
       "      <td>2025-06-25</td>\n",
       "      <td>780</td>\n",
       "      <td>16</td>\n",
       "      <td>Південний</td>\n",
       "      <td>10-а одшбр</td>\n",
       "      <td>Низький</td>\n",
       "    </tr>\n",
       "    <tr>\n",
       "      <th>3</th>\n",
       "      <td>2025-06-26</td>\n",
       "      <td>860</td>\n",
       "      <td>22</td>\n",
       "      <td>Західний</td>\n",
       "      <td>101-а омбр</td>\n",
       "      <td>Високий</td>\n",
       "    </tr>\n",
       "    <tr>\n",
       "      <th>4</th>\n",
       "      <td>2025-06-27</td>\n",
       "      <td>895</td>\n",
       "      <td>20</td>\n",
       "      <td>Північний</td>\n",
       "      <td>36-а обрмп</td>\n",
       "      <td>Високий</td>\n",
       "    </tr>\n",
       "  </tbody>\n",
       "</table>\n",
       "</div>"
      ],
      "text/plain": [
       "         Дата  Втрати особового складу  Втрати ОВТ   Напрямок   Підрозділ  \\\n",
       "0  2025-06-23                      820          20  Північний    1-а оабр   \n",
       "1  2025-06-24                      910          26    Східний   53-а омбр   \n",
       "2  2025-06-25                      780          16  Південний  10-а одшбр   \n",
       "3  2025-06-26                      860          22   Західний  101-а омбр   \n",
       "4  2025-06-27                      895          20  Північний  36-а обрмп   \n",
       "\n",
       "  Рівень загрози  \n",
       "0        Високий  \n",
       "1        Високий  \n",
       "2        Низький  \n",
       "3        Високий  \n",
       "4        Високий  "
      ]
     },
     "execution_count": 34,
     "metadata": {},
     "output_type": "execute_result"
    }
   ],
   "source": [
    "df.head() "
   ]
  },
  {
   "cell_type": "markdown",
   "id": "9273f3cd",
   "metadata": {},
   "source": [
    "Завдання 5. Збережено результат аналізу у новий CSV-файл."
   ]
  },
  {
   "cell_type": "code",
   "execution_count": 1,
   "id": "da2473a0",
   "metadata": {},
   "outputs": [],
   "source": [
    "import pandas as pd\n",
    "\n",
    "df = pd.read_csv(\"processed_losses.csv\", encoding=\"utf-8\")\n",
    "\n",
    "df.to_csv(\"processed_losses.csv\", index=False)\n"
   ]
  }
 ],
 "metadata": {
  "kernelspec": {
   "display_name": "Python 3",
   "language": "python",
   "name": "python3"
  },
  "language_info": {
   "codemirror_mode": {
    "name": "ipython",
    "version": 3
   },
   "file_extension": ".py",
   "mimetype": "text/x-python",
   "name": "python",
   "nbconvert_exporter": "python",
   "pygments_lexer": "ipython3",
   "version": "3.11.9"
  }
 },
 "nbformat": 4,
 "nbformat_minor": 5
}
