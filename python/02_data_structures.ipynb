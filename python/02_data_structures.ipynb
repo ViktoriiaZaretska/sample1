{
 "cells": [
  {
   "cell_type": "markdown",
   "id": "70fb78fe",
   "metadata": {},
   "source": [
    "Ось **розгорнутий контент для другого файлу `02_data_structures.ipynb`**, зосередженого на **структурах даних Python у контексті інформаційно-аналітичної діяльності військових штабів**:\n",
    "\n",
    "---\n",
    "\n",
    "# 📘 `02_data_structures.ipynb`\n",
    "\n",
    "## **Тема: Структури даних для військової аналітики**\n",
    "\n",
    "---\n",
    "\n",
    "### 🔹 Вступ\n",
    "\n",
    "Структури даних у Python — це спосіб зберігати й організовувати інформацію для ефективної обробки. У військовій аналітиці це можуть бути списки напрямків атаки, словники втрат по підрозділах, множини типів техніки тощо.\n",
    "\n",
    "---\n",
    "\n",
    "### 🔸 1. Списки (`list`)\n",
    "\n",
    "Списки зберігають впорядковані елементи.\n",
    "\n",
    "#### ✅ Приклади:\n",
    "\n",
    "```python\n",
    "directions = [\"Схід\", \"Південь\", \"Північ\"]\n",
    "losses_per_day = [30, 45, 25, 60]\n",
    "```\n",
    "\n",
    "#### 📌 Основні дії:\n",
    "\n",
    "```python\n",
    "print(directions[0])           # доступ до елементу\n",
    "directions.append(\"Захід\")     # додати напрямок\n",
    "losses_per_day.sort()          # сортування\n",
    "```\n",
    "\n",
    "#### 🔁 Ітерація:\n",
    "\n",
    "```python\n",
    "for direction in directions:\n",
    "    print(f\"Аналіз напрямку: {direction}\")\n",
    "```\n",
    "\n",
    "---\n",
    "\n",
    "### 🔸 2. Кортежі (`tuple`)\n",
    "\n",
    "Незмінні списки, зручно для фіксованих даних.\n",
    "\n",
    "#### ✅ Приклад:\n",
    "\n",
    "```python\n",
    "coordinates = (48.45, 35.02)  # широта, довгота\n",
    "```\n",
    "\n",
    "---\n",
    "\n",
    "### 🔸 3. Словники (`dict`)\n",
    "\n",
    "Ключ-значення. Ідеально підходить для звітів, де назви підрозділів — ключі, а значення — дані (втрати, готовність тощо).\n",
    "\n",
    "#### ✅ Приклади:\n",
    "\n",
    "```python\n",
    "unit_losses = {\n",
    "    \"1-а мехбр\": 120,\n",
    "    \"2-а танкбр\": 80,\n",
    "    \"3-я артбатр\": 45\n",
    "}\n",
    "```\n",
    "\n",
    "#### 📌 Операції:\n",
    "\n",
    "```python\n",
    "print(unit_losses[\"1-а мехбр\"])  # доступ\n",
    "unit_losses[\"4-а рота\"] = 30     # додати нову\n",
    "del unit_losses[\"3-я артбатр\"]   # видалити\n",
    "```\n",
    "\n",
    "#### 🔁 Ітерація:\n",
    "\n",
    "```python\n",
    "for unit, loss in unit_losses.items():\n",
    "    print(f\"{unit} втратила {loss} осіб\")\n",
    "```\n",
    "\n",
    "---\n",
    "\n",
    "### 🔸 4. Множини (`set`)\n",
    "\n",
    "Невпорядковані, унікальні значення. Використовуються для фільтрації, наприклад — які типи техніки були виявлені.\n",
    "\n",
    "#### ✅ Приклад:\n",
    "\n",
    "```python\n",
    "equipment_detected = {\"танк\", \"БТР\", \"САУ\", \"БТР\", \"танк\"}\n",
    "print(equipment_detected)  # {\"танк\", \"БТР\", \"САУ\"} — без повторів\n",
    "```\n",
    "\n",
    "#### 📌 Операції:\n",
    "\n",
    "```python\n",
    "equipment_detected.add(\"ППО\")\n",
    "equipment_detected.discard(\"БТР\")\n",
    "```\n",
    "\n",
    "#### 🔄 Операції над множинами:\n",
    "\n",
    "```python\n",
    "confirmed = {\"БТР\", \"САУ\"}\n",
    "detected = {\"БТР\", \"ППО\", \"РСЗВ\"}\n",
    "\n",
    "print(confirmed & detected)  # перетин\n",
    "print(confirmed | detected)  # об'єднання\n",
    "```\n",
    "\n",
    "---\n",
    "\n",
    "### 📝 Практичні завдання:\n",
    "\n",
    "1. Створити список напрямків, по яких ведеться аналіз.\n",
    "2. Створити словник із втратами підрозділів та порахувати сумарні втрати.\n",
    "3. Побудувати множину типів виявленої техніки на основі списку спостережень.\n",
    "4. Вивести підрозділи, втрати яких перевищують 50 осіб.\n",
    "\n",
    "\n"
   ]
  },
  {
   "cell_type": "markdown",
   "id": "c5b5b6da",
   "metadata": {},
   "source": [
    "Завдання 1. Створення списку напрямків, по яких ведеться аналіз."
   ]
  },
  {
   "cell_type": "code",
   "execution_count": null,
   "id": "0d424b6f",
   "metadata": {},
   "outputs": [
    {
     "name": "stdout",
     "output_type": "stream",
     "text": [
      "\n",
      "Введені напрямки для аналізу:\n",
      "Північ\n",
      "Південь\n",
      "Захід\n",
      "Схід\n"
     ]
    }
   ],
   "source": [
    "n = int(input(\"Введіть кількість напрямків для аналізу: \")) # 4\n",
    "\n",
    "directions = []\n",
    "\n",
    "for i in range(n):\n",
    "    direction = input(f\"Введіть напрямок №{i+1}: \")\n",
    "    \n",
    "    directions.append(direction)\n",
    "\n",
    "print(\"\\nВведені напрямки для аналізу:\")\n",
    "for direction in directions:\n",
    "    print(direction)"
   ]
  },
  {
   "cell_type": "markdown",
   "id": "dc9300df",
   "metadata": {},
   "source": [
    "Завдання 2. Створення словнику із втратами підрозділів та їх сумарні втрати."
   ]
  },
  {
   "cell_type": "code",
   "execution_count": 11,
   "id": "668bf0ee",
   "metadata": {},
   "outputs": [
    {
     "name": "stdout",
     "output_type": "stream",
     "text": [
      "Втрати по підрозділах:\n",
      "112-а омбр:65 осіб\n",
      "911-а одшбр:123 осіб\n",
      "5-а реабр:24 осіб\n",
      "1-а оабр:35 осіб\n",
      "\n",
      "Загальні втрати: 247 осіб\n"
     ]
    }
   ],
   "source": [
    "unit_losses = {\n",
    "\n",
    "    \"112-а омбр\": 65,\n",
    "    \"911-а одшбр\": 123, \n",
    "    \"5-а реабр\": 24,\n",
    "    \"1-а оабр\": 35\n",
    "}\n",
    "\n",
    "print(\"Втрати по підрозділах:\")\n",
    "for unit, losses in unit_losses.items():\n",
    "    print(f\"{unit}:{losses} осіб\")\n",
    "\n",
    "total_losses = sum(unit_losses.values())  \n",
    "\n",
    "print(f\"\\nЗагальні втрати: {total_losses} осіб\")"
   ]
  },
  {
   "cell_type": "markdown",
   "id": "a14e02d2",
   "metadata": {},
   "source": [
    "Завдання 3. Побудування множини типів виявленої техніки на основі списку спостережень."
   ]
  },
  {
   "cell_type": "code",
   "execution_count": 12,
   "id": "939cc650",
   "metadata": {},
   "outputs": [
    {
     "name": "stdout",
     "output_type": "stream",
     "text": [
      "Типи виявленої техніки:\n",
      "БТР\n",
      "танк\n",
      "артилерія\n",
      "РСЗВ\n"
     ]
    }
   ],
   "source": [
    "observations = {\n",
    "    \"танк\",\n",
    "    \"РСЗВ\",\n",
    "    \"танк\",\n",
    "    \"артилерія\",\n",
    "    \"РСЗВ\",\n",
    "    \"БТР\",\n",
    "    \"артилерія\",\n",
    "    \"БТР\"\n",
    "}\n",
    "\n",
    "unique_vehicles = set(observations)\n",
    "\n",
    "print(\"Типи виявленої техніки:\")\n",
    "for vehicle_type in unique_vehicles:\n",
    "    print(vehicle_type)\n"
   ]
  },
  {
   "cell_type": "markdown",
   "id": "e70ca0e4",
   "metadata": {},
   "source": [
    "Завдання 4. Виведення підрозділів, втрати яких перевищують 50 осіб."
   ]
  },
  {
   "cell_type": "code",
   "execution_count": 1,
   "id": "dfb93c1e",
   "metadata": {},
   "outputs": [
    {
     "name": "stdout",
     "output_type": "stream",
     "text": [
      "Підрозділи з втратами більше 50 осіб:\n",
      "112-а омбр:65 осіб\n",
      "911-а одшбр:123 осіб\n"
     ]
    }
   ],
   "source": [
    "unit_losses = {\n",
    "\n",
    "    \"112-а омбр\": 65,\n",
    "    \"911-а одшбр\": 123, \n",
    "    \"5-а реабр\": 24,\n",
    "    \"1-а оабр\": 35\n",
    "}\n",
    "\n",
    "print(\"Підрозділи з втратами більше 50 осіб:\")\n",
    "for unit, losses in unit_losses.items():\n",
    "    if losses > 50:\n",
    "         print(f\"{unit}:{losses} осіб\")\n"
   ]
  }
 ],
 "metadata": {
  "kernelspec": {
   "display_name": "Python 3",
   "language": "python",
   "name": "python3"
  },
  "language_info": {
   "codemirror_mode": {
    "name": "ipython",
    "version": 3
   },
   "file_extension": ".py",
   "mimetype": "text/x-python",
   "name": "python",
   "nbconvert_exporter": "python",
   "pygments_lexer": "ipython3",
   "version": "3.11.9"
  }
 },
 "nbformat": 4,
 "nbformat_minor": 5
}
