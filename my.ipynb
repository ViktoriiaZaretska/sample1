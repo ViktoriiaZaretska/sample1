{
 "cells": [
  {
   "cell_type": "code",
   "execution_count": 1,
   "id": "d97ef82a",
   "metadata": {},
   "outputs": [
    {
     "data": {
      "text/plain": [
       "4"
      ]
     },
     "execution_count": 1,
     "metadata": {},
     "output_type": "execute_result"
    }
   ],
   "source": [
    "2+2"
   ]
  },
  {
   "cell_type": "code",
   "execution_count": null,
   "id": "735450d7",
   "metadata": {},
   "outputs": [
    {
     "name": "stdout",
     "output_type": "stream",
     "text": [
      "x1 = True,x2 = string,x3 =2.3,x4 = 3\n"
     ]
    }
   ],
   "source": [
    "x1=True\n",
    "x2 = \"string\"\n",
    "x3 = 2.3\n",
    "x4 = 3\n",
    "type(x1)\n",
    "\n",
    "type(x2) \n",
    "\n",
    "type(x3)\n",
    "\n",
    "type (x4)\n",
    "\n",
    "print (f\"x1 = {x1},x2 = {x2},x3 ={x3},x4 = {x4}\")\n",
    "\n",
    "x11=input()\n",
    "print(x11)\n",
    "\n",
    "t = True\n",
    "f= False\n",
    "t or f"
   ]
  },
  {
   "cell_type": "code",
   "execution_count": 1,
   "id": "738104a9",
   "metadata": {},
   "outputs": [
    {
     "data": {
      "text/plain": [
       "True"
      ]
     },
     "execution_count": 1,
     "metadata": {},
     "output_type": "execute_result"
    }
   ],
   "source": [
    "t = True\n",
    "f= False\n",
    "t or f"
   ]
  },
  {
   "cell_type": "code",
   "execution_count": 3,
   "id": "3d43332a",
   "metadata": {},
   "outputs": [
    {
     "data": {
      "text/plain": [
       "False"
      ]
     },
     "execution_count": 3,
     "metadata": {},
     "output_type": "execute_result"
    }
   ],
   "source": [
    "2 != 2"
   ]
  }
 ],
 "metadata": {
  "kernelspec": {
   "display_name": "Python 3",
   "language": "python",
   "name": "python3"
  },
  "language_info": {
   "codemirror_mode": {
    "name": "ipython",
    "version": 3
   },
   "file_extension": ".py",
   "mimetype": "text/x-python",
   "name": "python",
   "nbconvert_exporter": "python",
   "pygments_lexer": "ipython3",
   "version": "3.11.9"
  }
 },
 "nbformat": 4,
 "nbformat_minor": 5
}
